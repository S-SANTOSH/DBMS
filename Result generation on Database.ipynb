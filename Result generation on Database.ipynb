{
 "cells": [
  {
   "cell_type": "code",
   "execution_count": 1,
   "metadata": {},
   "outputs": [],
   "source": [
    "import mysql.connector"
   ]
  },
  {
   "cell_type": "code",
   "execution_count": 2,
   "metadata": {},
   "outputs": [
    {
     "name": "stdout",
     "output_type": "stream",
     "text": [
      "Connection Sucessful\n"
     ]
    }
   ],
   "source": [
    "mydb = mysql.connector.connect(\n",
    "        host = \"localhost\",\n",
    "        user = \"root\",\n",
    "        password = \"Santoshkyn14@\"\n",
    "        )\n",
    "if(mydb):\n",
    "    print(\"Connection Sucessful\")\n",
    "else:\n",
    "    print(\"Connection Unsucessful\")"
   ]
  },
  {
   "cell_type": "code",
   "execution_count": 3,
   "metadata": {},
   "outputs": [],
   "source": [
    "mycursor = mydb.cursor()"
   ]
  },
  {
   "cell_type": "code",
   "execution_count": 4,
   "metadata": {},
   "outputs": [
    {
     "data": {
      "text/plain": [
       "<mysql.connector.cursor_cext.CMySQLCursor at 0x109d4b2e8>"
      ]
     },
     "execution_count": 4,
     "metadata": {},
     "output_type": "execute_result"
    }
   ],
   "source": [
    "mycursor"
   ]
  },
  {
   "cell_type": "code",
   "execution_count": 5,
   "metadata": {},
   "outputs": [],
   "source": [
    "mycursor.execute(\"CREATE DATABASE Mark1\")"
   ]
  },
  {
   "cell_type": "code",
   "execution_count": 6,
   "metadata": {},
   "outputs": [
    {
     "name": "stdout",
     "output_type": "stream",
     "text": [
      "Connection Successful\n"
     ]
    }
   ],
   "source": [
    "mydb = mysql.connector.connect(\n",
    "        host = \"localhost\",\n",
    "        user = \"root\",\n",
    "        password = \"Santoshkyn14@\",\n",
    "        database = \"Mark1\"\n",
    "        )\n",
    "if(mydb):\n",
    "    print(\"Connection Successful\")\n",
    "else:\n",
    "    print(\"Connection Unsucessful\")"
   ]
  },
  {
   "cell_type": "code",
   "execution_count": 7,
   "metadata": {},
   "outputs": [],
   "source": [
    "mycursor = mydb.cursor()"
   ]
  },
  {
   "cell_type": "code",
   "execution_count": 8,
   "metadata": {},
   "outputs": [],
   "source": [
    "mycursor.execute(\"CREATE TABLE Result(ID int NOT NULL AUTO_INCREMENT , Name VARCHAR(255) , English int NOT NULL, Physics int NOT NULL, Chemistry int NOT NULL, Maths int NOT NULL, Total int NOT NULL, Percentage FLOAT(10) , Comment VARCHAR(50), PRIMARY KEY (ID))\")\n",
    "\n",
    "\n",
    "\n"
   ]
  },
  {
   "cell_type": "code",
   "execution_count": 9,
   "metadata": {},
   "outputs": [],
   "source": [
    "mycursor.execute(\"SHOW TABLES\")"
   ]
  },
  {
   "cell_type": "code",
   "execution_count": 10,
   "metadata": {},
   "outputs": [
    {
     "name": "stdout",
     "output_type": "stream",
     "text": [
      "('Result',)\n"
     ]
    }
   ],
   "source": [
    "for i in mycursor:\n",
    "    print(i)"
   ]
  },
  {
   "cell_type": "code",
   "execution_count": 11,
   "metadata": {},
   "outputs": [],
   "source": [
    "def insert_fn_db(name , eng , phy, chem , maths , total , per, comment):\n",
    "    insert_db = \"INSERT INTO Result (Name , English , Physics , Chemistry , Maths , Total , Percentage , Comment) VALUES (%s, %s , %s , %s , %s , %s , %s , %s)\"\n",
    "    mycursor.execute(insert_db,(name, eng, phy, chem, maths, total, per, comment))\n",
    "    \n",
    "    \n",
    "    "
   ]
  },
  {
   "cell_type": "code",
   "execution_count": 12,
   "metadata": {},
   "outputs": [],
   "source": [
    "def calculate():\n",
    "    name = str(input(\"Enter the name of the student = \"))\n",
    "    english = int(input(\"Enter the marks of English = \"))\n",
    "    physics = int(input(\"Enter the marks of Physics = \"))\n",
    "    chemestry = int(input(\"Enter the marks of Chemistry = \"))\n",
    "    maths = int(input(\"Enter the marks of Maths = \"))\n",
    "    total = english + physics + chemestry + maths\n",
    "    percentage = (total*100)/400\n",
    "    percentage = round(percentage, 2)\n",
    "    if(english < 36 or physics < 36 or chemestry < 36 or maths < 36):\n",
    "        comment = \"Fail\"\n",
    "        percentage = None\n",
    "    else:\n",
    "        comment = \"Pass\"\n",
    "    print(name , english , physics , chemestry , maths , total , percentage , comment)\n",
    "    insert_fn_db(name , english , physics , chemestry , maths , total, percentage , comment)\n",
    "    "
   ]
  },
  {
   "cell_type": "code",
   "execution_count": 13,
   "metadata": {},
   "outputs": [],
   "source": [
    "def main():\n",
    "    time = int(input(\"Enter the number of students you want to enter the data = \"))\n",
    "    for i in range(time):\n",
    "        calculate()\n",
    "    mydb.commit()\n",
    "        "
   ]
  },
  {
   "cell_type": "markdown",
   "metadata": {},
   "source": [
    "# Output"
   ]
  },
  {
   "cell_type": "code",
   "execution_count": 14,
   "metadata": {},
   "outputs": [
    {
     "name": "stdout",
     "output_type": "stream",
     "text": [
      "Enter the number of students you want to enter the data = 5\n",
      "Enter the name of the student = Santosh Saxena\n",
      "Enter the marks of English = 82\n",
      "Enter the marks of Physics = 92\n",
      "Enter the marks of Chemistry = 89\n",
      "Enter the marks of Maths = 92\n",
      "Santosh Saxena 82 92 89 92 355 88.75 Pass\n",
      "Enter the name of the student = Mukesh Saxena\n",
      "Enter the marks of English = 71\n",
      "Enter the marks of Physics = 82\n",
      "Enter the marks of Chemistry = 85\n",
      "Enter the marks of Maths = 87\n",
      "Mukesh Saxena 71 82 85 87 325 81.25 Pass\n",
      "Enter the name of the student = Muskan Mohan\n",
      "Enter the marks of English = 0\n",
      "Enter the marks of Physics = 0\n",
      "Enter the marks of Chemistry = 0\n",
      "Enter the marks of Maths = 0\n",
      "Muskan Mohan 0 0 0 0 0 None Fail\n",
      "Enter the name of the student = Harsh Mahalle\n",
      "Enter the marks of English = 72\n",
      "Enter the marks of Physics = 63\n",
      "Enter the marks of Chemistry = 91\n",
      "Enter the marks of Maths = 32\n",
      "Harsh Mahalle 72 63 91 32 258 None Fail\n",
      "Enter the name of the student = Shrey Savalia\n",
      "Enter the marks of English = 92\n",
      "Enter the marks of Physics = 82\n",
      "Enter the marks of Chemistry = 73\n",
      "Enter the marks of Maths = 92\n",
      "Shrey Savalia 92 82 73 92 339 84.75 Pass\n"
     ]
    }
   ],
   "source": [
    "main()"
   ]
  },
  {
   "cell_type": "code",
   "execution_count": null,
   "metadata": {},
   "outputs": [],
   "source": []
  },
  {
   "cell_type": "code",
   "execution_count": null,
   "metadata": {},
   "outputs": [],
   "source": []
  },
  {
   "cell_type": "code",
   "execution_count": null,
   "metadata": {},
   "outputs": [],
   "source": []
  },
  {
   "cell_type": "code",
   "execution_count": 17,
   "metadata": {},
   "outputs": [],
   "source": []
  },
  {
   "cell_type": "code",
   "execution_count": null,
   "metadata": {},
   "outputs": [],
   "source": []
  }
 ],
 "metadata": {
  "kernelspec": {
   "display_name": "Python 3",
   "language": "python",
   "name": "python3"
  },
  "language_info": {
   "codemirror_mode": {
    "name": "ipython",
    "version": 3
   },
   "file_extension": ".py",
   "mimetype": "text/x-python",
   "name": "python",
   "nbconvert_exporter": "python",
   "pygments_lexer": "ipython3",
   "version": "3.7.1"
  }
 },
 "nbformat": 4,
 "nbformat_minor": 2
}
